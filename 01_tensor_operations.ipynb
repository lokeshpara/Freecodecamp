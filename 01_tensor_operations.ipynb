{
  "nbformat": 4,
  "nbformat_minor": 0,
  "metadata": {
    "kernelspec": {
      "display_name": "Python 3",
      "language": "python",
      "name": "python3"
    },
    "language_info": {
      "codemirror_mode": {
        "name": "ipython",
        "version": 3
      },
      "file_extension": ".py",
      "mimetype": "text/x-python",
      "name": "python",
      "nbconvert_exporter": "python",
      "pygments_lexer": "ipython3",
      "version": "3.7.6"
    },
    "colab": {
      "name": "Copy of 01-tensor-operations.ipynb",
      "provenance": []
    },
    "accelerator": "GPU"
  },
  "cells": [
    {
      "cell_type": "markdown",
      "metadata": {
        "id": "srcVCLX1dWiH",
        "colab_type": "text"
      },
      "source": [
        "# 1st assignment \n",
        "\n",
        "### torch.tensor\n",
        "\n",
        "An short introduction about PyTorch and about the few functions. \n",
        "#### > torch.cat\n",
        "#### > torch.reshape\n",
        "#### > torch.take\n",
        "#### > torch.view\n",
        "#### > torch.matmul"
      ]
    },
    {
      "cell_type": "code",
      "metadata": {
        "id": "K3vSWgdCdWiK",
        "colab_type": "code",
        "colab": {}
      },
      "source": [
        "# Import torch and other required modules\n",
        "import torch"
      ],
      "execution_count": 0,
      "outputs": []
    },
    {
      "cell_type": "markdown",
      "metadata": {
        "id": "lgucrFw_dWiS",
        "colab_type": "text"
      },
      "source": [
        "## Function 1 - torch.cat\n",
        "\n",
        "Concatenates the given sequence of tensors in the given dimension. All tensors must either have the same shape (except in the concatenating dimension) or be empty."
      ]
    },
    {
      "cell_type": "code",
      "metadata": {
        "id": "axoqxnoddWiU",
        "colab_type": "code",
        "outputId": "9e8df8c6-b347-49eb-93c8-6ac118ffce5b",
        "colab": {
          "base_uri": "https://localhost:8080/",
          "height": 269
        }
      },
      "source": [
        "# Example 1 - working \n",
        "x = torch.randn(3, 3)\n",
        "print(torch.cat((x, x, x), 0))\n"
      ],
      "execution_count": 10,
      "outputs": [
        {
          "output_type": "stream",
          "text": [
            "tensor([[ 0.1039, -2.6805, -0.4652],\n",
            "        [-1.3789,  0.9217, -1.0212],\n",
            "        [ 1.1273, -0.6954,  0.4879],\n",
            "        [ 0.1039, -2.6805, -0.4652],\n",
            "        [-1.3789,  0.9217, -1.0212],\n",
            "        [ 1.1273, -0.6954,  0.4879],\n",
            "        [ 0.1039, -2.6805, -0.4652],\n",
            "        [-1.3789,  0.9217, -1.0212],\n",
            "        [ 1.1273, -0.6954,  0.4879]])\n",
            "tensor([[ 0.1039, -2.6805, -0.4652,  0.1039, -2.6805, -0.4652,  0.1039, -2.6805,\n",
            "         -0.4652],\n",
            "        [-1.3789,  0.9217, -1.0212, -1.3789,  0.9217, -1.0212, -1.3789,  0.9217,\n",
            "         -1.0212],\n",
            "        [ 1.1273, -0.6954,  0.4879,  1.1273, -0.6954,  0.4879,  1.1273, -0.6954,\n",
            "          0.4879]])\n"
          ],
          "name": "stdout"
        }
      ]
    },
    {
      "cell_type": "markdown",
      "metadata": {
        "id": "5hjY2sRgdWib",
        "colab_type": "text"
      },
      "source": [
        "Concatenates tensor  3 times and create new tensor"
      ]
    },
    {
      "cell_type": "code",
      "metadata": {
        "id": "GTfvBEyOdWic",
        "colab_type": "code",
        "colab": {
          "base_uri": "https://localhost:8080/",
          "height": 118
        },
        "outputId": "1fd37a5e-d51d-476e-885a-5bbb7fb7eb4f"
      },
      "source": [
        "# Example 2 - working\n",
        "torch.cat((x, x, x), 1)"
      ],
      "execution_count": 11,
      "outputs": [
        {
          "output_type": "execute_result",
          "data": {
            "text/plain": [
              "tensor([[ 0.1039, -2.6805, -0.4652,  0.1039, -2.6805, -0.4652,  0.1039, -2.6805,\n",
              "         -0.4652],\n",
              "        [-1.3789,  0.9217, -1.0212, -1.3789,  0.9217, -1.0212, -1.3789,  0.9217,\n",
              "         -1.0212],\n",
              "        [ 1.1273, -0.6954,  0.4879,  1.1273, -0.6954,  0.4879,  1.1273, -0.6954,\n",
              "          0.4879]])"
            ]
          },
          "metadata": {
            "tags": []
          },
          "execution_count": 11
        }
      ]
    },
    {
      "cell_type": "markdown",
      "metadata": {
        "id": "G1a4-sr1dWii",
        "colab_type": "text"
      },
      "source": [
        "Concatenates tensor 3 times in another axis"
      ]
    },
    {
      "cell_type": "code",
      "metadata": {
        "id": "RznJQ7fTdWik",
        "colab_type": "code",
        "outputId": "d5e48f74-d447-4931-cafc-035bee420b07",
        "colab": {
          "base_uri": "https://localhost:8080/",
          "height": 215
        }
      },
      "source": [
        "# Example 3 - breaking (to illustrate when it breaks)\n",
        "y = torch.randn(3,2)\n",
        "torch.cat((x, y), 0)"
      ],
      "execution_count": 14,
      "outputs": [
        {
          "output_type": "error",
          "ename": "RuntimeError",
          "evalue": "ignored",
          "traceback": [
            "\u001b[0;31m---------------------------------------------------------------------------\u001b[0m",
            "\u001b[0;31mRuntimeError\u001b[0m                              Traceback (most recent call last)",
            "\u001b[0;32m<ipython-input-14-30530c874812>\u001b[0m in \u001b[0;36m<module>\u001b[0;34m()\u001b[0m\n\u001b[1;32m      1\u001b[0m \u001b[0;31m# Example 3 - breaking (to illustrate when it breaks)\u001b[0m\u001b[0;34m\u001b[0m\u001b[0;34m\u001b[0m\u001b[0;34m\u001b[0m\u001b[0m\n\u001b[1;32m      2\u001b[0m \u001b[0my\u001b[0m \u001b[0;34m=\u001b[0m \u001b[0mtorch\u001b[0m\u001b[0;34m.\u001b[0m\u001b[0mrandn\u001b[0m\u001b[0;34m(\u001b[0m\u001b[0;36m3\u001b[0m\u001b[0;34m,\u001b[0m\u001b[0;36m2\u001b[0m\u001b[0;34m)\u001b[0m\u001b[0;34m\u001b[0m\u001b[0;34m\u001b[0m\u001b[0m\n\u001b[0;32m----> 3\u001b[0;31m \u001b[0mtorch\u001b[0m\u001b[0;34m.\u001b[0m\u001b[0mcat\u001b[0m\u001b[0;34m(\u001b[0m\u001b[0;34m(\u001b[0m\u001b[0mx\u001b[0m\u001b[0;34m,\u001b[0m \u001b[0my\u001b[0m\u001b[0;34m)\u001b[0m\u001b[0;34m,\u001b[0m \u001b[0;36m0\u001b[0m\u001b[0;34m)\u001b[0m\u001b[0;34m\u001b[0m\u001b[0;34m\u001b[0m\u001b[0m\n\u001b[0m",
            "\u001b[0;31mRuntimeError\u001b[0m: Sizes of tensors must match except in dimension 0. Got 3 and 2 in dimension 1"
          ]
        }
      ]
    },
    {
      "cell_type": "markdown",
      "metadata": {
        "id": "6foo8OPxdWir",
        "colab_type": "text"
      },
      "source": [
        "he size of x tensor is 3 by 3 and y is 3 by 2 which is a mismatch and must have to match to concatenate"
      ]
    },
    {
      "cell_type": "markdown",
      "metadata": {
        "id": "bUm55UaOdWis",
        "colab_type": "text"
      },
      "source": [
        "The function is used to concatenate"
      ]
    },
    {
      "cell_type": "markdown",
      "metadata": {
        "id": "9ivOOnB6dWiu",
        "colab_type": "text"
      },
      "source": [
        "## Function 2 - torch.reshape\n",
        "\n",
        "It takes input and reshape size and returns a tensor with the same data and number of elements as input"
      ]
    },
    {
      "cell_type": "code",
      "metadata": {
        "id": "A43W7XqsdWiv",
        "colab_type": "code",
        "colab": {
          "base_uri": "https://localhost:8080/",
          "height": 134
        },
        "outputId": "5f2f409f-268b-4403-e768-8f0c2770f083"
      },
      "source": [
        "# Example 1 - working\n",
        "x = torch.randn(10)\n",
        "print(x)\n",
        "torch.reshape(x, (5, 2))"
      ],
      "execution_count": 27,
      "outputs": [
        {
          "output_type": "stream",
          "text": [
            "tensor([-0.7901,  0.3933, -0.0400,  0.0689, -2.0546,  1.6476,  0.6646, -1.1649,\n",
            "        -0.4212, -2.1569])\n"
          ],
          "name": "stdout"
        },
        {
          "output_type": "execute_result",
          "data": {
            "text/plain": [
              "tensor([[-0.7901,  0.3933],\n",
              "        [-0.0400,  0.0689],\n",
              "        [-2.0546,  1.6476],\n",
              "        [ 0.6646, -1.1649],\n",
              "        [-0.4212, -2.1569]])"
            ]
          },
          "metadata": {
            "tags": []
          },
          "execution_count": 27
        }
      ]
    },
    {
      "cell_type": "markdown",
      "metadata": {
        "id": "fZJb4VjydWi1",
        "colab_type": "text"
      },
      "source": [
        "Reshape a 1D array to 5 by 2 dimension"
      ]
    },
    {
      "cell_type": "code",
      "metadata": {
        "id": "qQ5z5D0jdWi2",
        "colab_type": "code",
        "colab": {
          "base_uri": "https://localhost:8080/",
          "height": 50
        },
        "outputId": "a678dbe1-2288-423c-9ca4-235b4f34cf1f"
      },
      "source": [
        "# Example 2 - working\n",
        "y = torch.tensor([[-0.6784,  0.8212],\n",
        "        [-0.0244, -0.3806],\n",
        "        [-0.9986, -1.6126],\n",
        "        [-0.1749,  1.3988],\n",
        "        [-0.9295,  0.5233]])\n",
        "torch.reshape(y, (-1,))"
      ],
      "execution_count": 22,
      "outputs": [
        {
          "output_type": "execute_result",
          "data": {
            "text/plain": [
              "tensor([-0.6784,  0.8212, -0.0244, -0.3806, -0.9986, -1.6126, -0.1749,  1.3988,\n",
              "        -0.9295,  0.5233])"
            ]
          },
          "metadata": {
            "tags": []
          },
          "execution_count": 22
        }
      ]
    },
    {
      "cell_type": "markdown",
      "metadata": {
        "id": "1Aj1c45AdWi8",
        "colab_type": "text"
      },
      "source": [
        "Reshape a tensor of size 5 by 2 to size of shape 1"
      ]
    },
    {
      "cell_type": "code",
      "metadata": {
        "id": "cTxCrFbzdWi9",
        "colab_type": "code",
        "colab": {
          "base_uri": "https://localhost:8080/",
          "height": 195
        },
        "outputId": "84f4fadb-19ea-4525-9c11-31d98fa39ebf"
      },
      "source": [
        "# Example 3 - breaking (to illustrate when it breaks)\n",
        "x = torch.arange(11)\n",
        "torch.reshape(x, (2, 3))"
      ],
      "execution_count": 25,
      "outputs": [
        {
          "output_type": "error",
          "ename": "RuntimeError",
          "evalue": "ignored",
          "traceback": [
            "\u001b[0;31m---------------------------------------------------------------------------\u001b[0m",
            "\u001b[0;31mRuntimeError\u001b[0m                              Traceback (most recent call last)",
            "\u001b[0;32m<ipython-input-25-9dbc796ba093>\u001b[0m in \u001b[0;36m<module>\u001b[0;34m()\u001b[0m\n\u001b[1;32m      1\u001b[0m \u001b[0;31m# Example 3 - breaking (to illustrate when it breaks)\u001b[0m\u001b[0;34m\u001b[0m\u001b[0;34m\u001b[0m\u001b[0;34m\u001b[0m\u001b[0m\n\u001b[1;32m      2\u001b[0m \u001b[0mx\u001b[0m \u001b[0;34m=\u001b[0m \u001b[0mtorch\u001b[0m\u001b[0;34m.\u001b[0m\u001b[0marange\u001b[0m\u001b[0;34m(\u001b[0m\u001b[0;36m11\u001b[0m\u001b[0;34m)\u001b[0m\u001b[0;34m\u001b[0m\u001b[0;34m\u001b[0m\u001b[0m\n\u001b[0;32m----> 3\u001b[0;31m \u001b[0mtorch\u001b[0m\u001b[0;34m.\u001b[0m\u001b[0mreshape\u001b[0m\u001b[0;34m(\u001b[0m\u001b[0mx\u001b[0m\u001b[0;34m,\u001b[0m \u001b[0;34m(\u001b[0m\u001b[0;36m2\u001b[0m\u001b[0;34m,\u001b[0m \u001b[0;36m3\u001b[0m\u001b[0;34m)\u001b[0m\u001b[0;34m)\u001b[0m\u001b[0;34m\u001b[0m\u001b[0;34m\u001b[0m\u001b[0m\n\u001b[0m",
            "\u001b[0;31mRuntimeError\u001b[0m: shape '[2, 3]' is invalid for input of size 11"
          ]
        }
      ]
    },
    {
      "cell_type": "markdown",
      "metadata": {
        "id": "n3alJ_lzdWjC",
        "colab_type": "text"
      },
      "source": [
        "The function could not change the shape to size 2 by 3 because of size 11"
      ]
    },
    {
      "cell_type": "markdown",
      "metadata": {
        "id": "kVY3QdE1dWjC",
        "colab_type": "text"
      },
      "source": [
        "Change the shape of input"
      ]
    },
    {
      "cell_type": "markdown",
      "metadata": {
        "id": "s9V-tUXFdWjD",
        "colab_type": "text"
      },
      "source": [
        "## Function 3 - torch.take\n",
        "\n",
        "Takes a tensor and returns a new tensor with the elements of inputs at the given indices"
      ]
    },
    {
      "cell_type": "code",
      "metadata": {
        "id": "fckyRPOAdWjE",
        "colab_type": "code",
        "colab": {
          "base_uri": "https://localhost:8080/",
          "height": 269
        },
        "outputId": "1434b58f-21d6-4bef-8ab8-fe0cc4402489"
      },
      "source": [
        "# Example 1 - working\n",
        "x = torch.randn(5,2,3)\n",
        "print(x)\n",
        "torch.take(x, torch.tensor([0, 6, 10]))\n"
      ],
      "execution_count": 40,
      "outputs": [
        {
          "output_type": "stream",
          "text": [
            "tensor([[[ 1.4548, -0.3098, -0.6392],\n",
            "         [-1.2620, -0.1484, -0.5098]],\n",
            "\n",
            "        [[ 0.0906,  1.4270, -0.1366],\n",
            "         [ 1.1127, -0.0789, -1.0563]],\n",
            "\n",
            "        [[ 0.2826,  0.4658, -0.5280],\n",
            "         [ 0.7558, -0.7301,  0.4031]],\n",
            "\n",
            "        [[-0.2038, -0.5511, -0.1244],\n",
            "         [ 0.0514,  1.0462,  0.2506]],\n",
            "\n",
            "        [[ 0.7080, -0.7573, -0.7082],\n",
            "         [-0.4799, -1.3008, -0.3812]]])\n"
          ],
          "name": "stdout"
        },
        {
          "output_type": "execute_result",
          "data": {
            "text/plain": [
              "tensor([ 1.4548,  0.0906, -0.0789])"
            ]
          },
          "metadata": {
            "tags": []
          },
          "execution_count": 40
        }
      ]
    },
    {
      "cell_type": "markdown",
      "metadata": {
        "id": "6lXN3EyFdWjJ",
        "colab_type": "text"
      },
      "source": [
        "Takes a tensor of shape 5, 2, 3 and returns a new tensor with the indices value 0, 6, 10"
      ]
    },
    {
      "cell_type": "code",
      "metadata": {
        "id": "x-wd4lu7dWjJ",
        "colab_type": "code",
        "colab": {
          "base_uri": "https://localhost:8080/",
          "height": 67
        },
        "outputId": "2109b7ec-d6ea-437d-a4d9-4702fac255ba"
      },
      "source": [
        "# Example 2 - working\n",
        "y = torch.tensor([[5, 3, 5],\n",
        "                 [1, 5, 5]])\n",
        "print(y)\n",
        "torch.take(y, torch.tensor([3, 3]))"
      ],
      "execution_count": 43,
      "outputs": [
        {
          "output_type": "stream",
          "text": [
            "tensor([[5, 3, 5],\n",
            "        [1, 5, 5]])\n"
          ],
          "name": "stdout"
        },
        {
          "output_type": "execute_result",
          "data": {
            "text/plain": [
              "tensor([1, 1])"
            ]
          },
          "metadata": {
            "tags": []
          },
          "execution_count": 43
        }
      ]
    },
    {
      "cell_type": "markdown",
      "metadata": {
        "id": "GUE8Z8DbdWjO",
        "colab_type": "text"
      },
      "source": [
        "Returns a new tensor with indices value of 3 and 3"
      ]
    },
    {
      "cell_type": "code",
      "metadata": {
        "id": "LMWC6gr1dWjP",
        "colab_type": "code",
        "colab": {
          "base_uri": "https://localhost:8080/",
          "height": 282
        },
        "outputId": "7b959f0f-3fe8-4874-d5b9-e478c4757930"
      },
      "source": [
        "# Example 3 - breaking (to illustrate when it breaks)\n",
        "x = torch.randn(1,4,3)\n",
        "print(x)\n",
        "torch.take(x, torch.tensor([0, 2, 13]))"
      ],
      "execution_count": 53,
      "outputs": [
        {
          "output_type": "stream",
          "text": [
            "tensor([[[ 0.0234, -0.2771, -1.3984],\n",
            "         [ 1.0113, -0.7154,  0.3183],\n",
            "         [-0.2716, -1.2234,  0.6337],\n",
            "         [ 0.9134, -0.0639, -0.5973]]])\n"
          ],
          "name": "stdout"
        },
        {
          "output_type": "error",
          "ename": "RuntimeError",
          "evalue": "ignored",
          "traceback": [
            "\u001b[0;31m---------------------------------------------------------------------------\u001b[0m",
            "\u001b[0;31mRuntimeError\u001b[0m                              Traceback (most recent call last)",
            "\u001b[0;32m<ipython-input-53-a55d50362def>\u001b[0m in \u001b[0;36m<module>\u001b[0;34m()\u001b[0m\n\u001b[1;32m      2\u001b[0m \u001b[0mx\u001b[0m \u001b[0;34m=\u001b[0m \u001b[0mtorch\u001b[0m\u001b[0;34m.\u001b[0m\u001b[0mrandn\u001b[0m\u001b[0;34m(\u001b[0m\u001b[0;36m1\u001b[0m\u001b[0;34m,\u001b[0m\u001b[0;36m4\u001b[0m\u001b[0;34m,\u001b[0m\u001b[0;36m3\u001b[0m\u001b[0;34m)\u001b[0m\u001b[0;34m\u001b[0m\u001b[0;34m\u001b[0m\u001b[0m\n\u001b[1;32m      3\u001b[0m \u001b[0mprint\u001b[0m\u001b[0;34m(\u001b[0m\u001b[0mx\u001b[0m\u001b[0;34m)\u001b[0m\u001b[0;34m\u001b[0m\u001b[0;34m\u001b[0m\u001b[0m\n\u001b[0;32m----> 4\u001b[0;31m \u001b[0mtorch\u001b[0m\u001b[0;34m.\u001b[0m\u001b[0mtake\u001b[0m\u001b[0;34m(\u001b[0m\u001b[0mx\u001b[0m\u001b[0;34m,\u001b[0m \u001b[0mtorch\u001b[0m\u001b[0;34m.\u001b[0m\u001b[0mtensor\u001b[0m\u001b[0;34m(\u001b[0m\u001b[0;34m[\u001b[0m\u001b[0;36m0\u001b[0m\u001b[0;34m,\u001b[0m \u001b[0;36m2\u001b[0m\u001b[0;34m,\u001b[0m \u001b[0;36m13\u001b[0m\u001b[0;34m]\u001b[0m\u001b[0;34m)\u001b[0m\u001b[0;34m)\u001b[0m\u001b[0;34m\u001b[0m\u001b[0;34m\u001b[0m\u001b[0m\n\u001b[0m",
            "\u001b[0;31mRuntimeError\u001b[0m: invalid argument 2: out of range: 13 out of 12 at /pytorch/aten/src/TH/generic/THTensorEvenMoreMath.cpp:314"
          ]
        }
      ]
    },
    {
      "cell_type": "markdown",
      "metadata": {
        "id": "mQrAUqcxdWjU",
        "colab_type": "text"
      },
      "source": [
        "x tensor have indices upto 12. There is not tensor to 13\n"
      ]
    },
    {
      "cell_type": "markdown",
      "metadata": {
        "id": "JUqoxGdLdWjV",
        "colab_type": "text"
      },
      "source": [
        "\n",
        "This function is useful to get the required values from other tensor"
      ]
    },
    {
      "cell_type": "markdown",
      "metadata": {
        "id": "2JoOYRD8dWjW",
        "colab_type": "text"
      },
      "source": [
        "## Function 4 - torch.view\n",
        "\n",
        "It takes input and reshape size and returns a tensor with the same data and number of elements as input.But, Input won't change it shape when we call it in next instruction.\n"
      ]
    },
    {
      "cell_type": "code",
      "metadata": {
        "id": "80LDrCZldWjX",
        "colab_type": "code",
        "colab": {
          "base_uri": "https://localhost:8080/",
          "height": 118
        },
        "outputId": "91b261a6-2e12-46b3-d087-e5a47749cc29"
      },
      "source": [
        "# Example 1 - working\n",
        "t = torch.rand(4, 4)\n",
        "print(t.view(2, 8))\n",
        "print(t)"
      ],
      "execution_count": 56,
      "outputs": [
        {
          "output_type": "stream",
          "text": [
            "tensor([[0.2272, 0.4060, 0.0343, 0.7325, 0.5882, 0.7602, 0.1602, 0.9939],\n",
            "        [0.9084, 0.2754, 0.8336, 0.5572, 0.7834, 0.1227, 0.2128, 0.1336]])\n",
            "tensor([[0.2272, 0.4060, 0.0343, 0.7325],\n",
            "        [0.5882, 0.7602, 0.1602, 0.9939],\n",
            "        [0.9084, 0.2754, 0.8336, 0.5572],\n",
            "        [0.7834, 0.1227, 0.2128, 0.1336]])\n"
          ],
          "name": "stdout"
        }
      ]
    },
    {
      "cell_type": "markdown",
      "metadata": {
        "id": "qvo4DMSrdWjb",
        "colab_type": "text"
      },
      "source": [
        "Explanation about example"
      ]
    },
    {
      "cell_type": "code",
      "metadata": {
        "id": "JCGAnmhNdWjc",
        "colab_type": "code",
        "colab": {
          "base_uri": "https://localhost:8080/",
          "height": 353
        },
        "outputId": "e282c327-b8c7-43ec-829f-a594873139e9"
      },
      "source": [
        "# Example 2 - working\n",
        "t = torch.rand(4, 4)\n",
        "print(t.view(16,-1))\n",
        "print(t.view(-1,16))\n",
        "print(t.view(-1))"
      ],
      "execution_count": 63,
      "outputs": [
        {
          "output_type": "stream",
          "text": [
            "tensor([[0.2258],\n",
            "        [0.8424],\n",
            "        [0.5797],\n",
            "        [0.8566],\n",
            "        [0.0726],\n",
            "        [0.2611],\n",
            "        [0.4458],\n",
            "        [0.4279],\n",
            "        [0.9115],\n",
            "        [0.5694],\n",
            "        [0.7163],\n",
            "        [0.8941],\n",
            "        [0.7591],\n",
            "        [0.6354],\n",
            "        [0.5651],\n",
            "        [0.4007]])\n",
            "tensor([[0.2258, 0.8424, 0.5797, 0.8566, 0.0726, 0.2611, 0.4458, 0.4279, 0.9115,\n",
            "         0.5694, 0.7163, 0.8941, 0.7591, 0.6354, 0.5651, 0.4007]])\n",
            "tensor([0.2258, 0.8424, 0.5797, 0.8566, 0.0726, 0.2611, 0.4458, 0.4279, 0.9115,\n",
            "        0.5694, 0.7163, 0.8941, 0.7591, 0.6354, 0.5651, 0.4007])\n"
          ],
          "name": "stdout"
        }
      ]
    },
    {
      "cell_type": "markdown",
      "metadata": {
        "id": "DKtwnyNzdWjg",
        "colab_type": "text"
      },
      "source": [
        "shaping in 1D in x-axis and y-axis"
      ]
    },
    {
      "cell_type": "code",
      "metadata": {
        "id": "TPxyawUkdWjh",
        "colab_type": "code",
        "colab": {
          "base_uri": "https://localhost:8080/",
          "height": 195
        },
        "outputId": "5232c4cb-0668-46c2-a557-7d2e28a208df"
      },
      "source": [
        "# Example 3 - breaking (to illustrate when it breaks)\n",
        "t = torch.rand(4, 4)\n",
        "print(t.view(10,-1))"
      ],
      "execution_count": 64,
      "outputs": [
        {
          "output_type": "error",
          "ename": "RuntimeError",
          "evalue": "ignored",
          "traceback": [
            "\u001b[0;31m---------------------------------------------------------------------------\u001b[0m",
            "\u001b[0;31mRuntimeError\u001b[0m                              Traceback (most recent call last)",
            "\u001b[0;32m<ipython-input-64-e76a3512e08a>\u001b[0m in \u001b[0;36m<module>\u001b[0;34m()\u001b[0m\n\u001b[1;32m      1\u001b[0m \u001b[0;31m# Example 3 - breaking (to illustrate when it breaks)\u001b[0m\u001b[0;34m\u001b[0m\u001b[0;34m\u001b[0m\u001b[0;34m\u001b[0m\u001b[0m\n\u001b[1;32m      2\u001b[0m \u001b[0mt\u001b[0m \u001b[0;34m=\u001b[0m \u001b[0mtorch\u001b[0m\u001b[0;34m.\u001b[0m\u001b[0mrand\u001b[0m\u001b[0;34m(\u001b[0m\u001b[0;36m4\u001b[0m\u001b[0;34m,\u001b[0m \u001b[0;36m4\u001b[0m\u001b[0;34m)\u001b[0m\u001b[0;34m\u001b[0m\u001b[0;34m\u001b[0m\u001b[0m\n\u001b[0;32m----> 3\u001b[0;31m \u001b[0mprint\u001b[0m\u001b[0;34m(\u001b[0m\u001b[0mt\u001b[0m\u001b[0;34m.\u001b[0m\u001b[0mview\u001b[0m\u001b[0;34m(\u001b[0m\u001b[0;36m10\u001b[0m\u001b[0;34m,\u001b[0m\u001b[0;34m-\u001b[0m\u001b[0;36m1\u001b[0m\u001b[0;34m)\u001b[0m\u001b[0;34m)\u001b[0m\u001b[0;34m\u001b[0m\u001b[0;34m\u001b[0m\u001b[0m\n\u001b[0m",
            "\u001b[0;31mRuntimeError\u001b[0m: shape '[10, -1]' is invalid for input of size 16"
          ]
        }
      ]
    },
    {
      "cell_type": "markdown",
      "metadata": {
        "id": "r34Cq3eQdWjm",
        "colab_type": "text"
      },
      "source": [
        "Input size is 16. 10 is invalid "
      ]
    },
    {
      "cell_type": "markdown",
      "metadata": {
        "id": "v9w_gqGodWjm",
        "colab_type": "text"
      },
      "source": [
        "changing the shape of input"
      ]
    },
    {
      "cell_type": "markdown",
      "metadata": {
        "id": "LciRSTlydWjn",
        "colab_type": "text"
      },
      "source": [
        "## Function 5 - torch.matmul\n",
        "\n",
        "Returns product of tensors"
      ]
    },
    {
      "cell_type": "code",
      "metadata": {
        "id": "E9LoONfNdWjs",
        "colab_type": "code",
        "colab": {
          "base_uri": "https://localhost:8080/",
          "height": 67
        },
        "outputId": "a743b944-d050-40c1-fc5c-67d0f3e3bdd2"
      },
      "source": [
        "# Example 1 - working\n",
        "x = torch.randn(3, 3)\n",
        "y = torch.randn(3, 1)\n",
        "torch.matmul(x, y)"
      ],
      "execution_count": 66,
      "outputs": [
        {
          "output_type": "execute_result",
          "data": {
            "text/plain": [
              "tensor([[-1.2175],\n",
              "        [ 0.0543],\n",
              "        [ 0.2915]])"
            ]
          },
          "metadata": {
            "tags": []
          },
          "execution_count": 66
        }
      ]
    },
    {
      "cell_type": "markdown",
      "metadata": {
        "id": "3vzQJ29ndWjv",
        "colab_type": "text"
      },
      "source": [
        "Multiply x and y"
      ]
    },
    {
      "cell_type": "code",
      "metadata": {
        "id": "h6M2XF1tdWjx",
        "colab_type": "code",
        "colab": {
          "base_uri": "https://localhost:8080/",
          "height": 941
        },
        "outputId": "ef619a02-30dc-417b-e102-9b0399eab3a6"
      },
      "source": [
        "# Example 2 - working\n",
        "x = torch.randn(3, 3, 5, 5)\n",
        "y = torch.inverse(x)\n",
        "torch.matmul(x, y)"
      ],
      "execution_count": 70,
      "outputs": [
        {
          "output_type": "execute_result",
          "data": {
            "text/plain": [
              "tensor([[[[ 1.0000e+00, -8.9407e-08,  5.9605e-08,  2.9802e-08,  6.7055e-08],\n",
              "          [ 0.0000e+00,  1.0000e+00,  0.0000e+00, -5.9605e-08, -5.9605e-08],\n",
              "          [ 2.2352e-08,  5.9605e-08,  1.0000e+00, -7.6368e-08, -7.4506e-09],\n",
              "          [ 6.7987e-08,  0.0000e+00,  2.2352e-08,  1.0000e+00, -2.7940e-08],\n",
              "          [ 0.0000e+00,  0.0000e+00,  0.0000e+00,  1.1921e-07,  1.0000e+00]],\n",
              "\n",
              "         [[ 1.0000e+00,  1.1921e-07, -2.0862e-07, -2.3842e-07, -2.0862e-07],\n",
              "          [ 0.0000e+00,  1.0000e+00,  3.5763e-07,  2.3842e-07,  2.3842e-07],\n",
              "          [ 1.1921e-07, -1.1921e-07,  1.0000e+00,  1.1921e-07,  5.9605e-08],\n",
              "          [-5.9605e-08, -1.7881e-07,  5.9605e-08,  1.0000e+00,  1.7881e-07],\n",
              "          [ 1.9372e-07, -8.9407e-08,  7.4506e-08,  1.7881e-07,  1.0000e+00]],\n",
              "\n",
              "         [[ 1.0000e+00,  2.6077e-08,  8.8476e-09,  1.8626e-08, -1.3039e-08],\n",
              "          [-2.9802e-08,  1.0000e+00, -2.9802e-08, -1.1921e-07,  0.0000e+00],\n",
              "          [-2.9802e-08, -5.9605e-08,  1.0000e+00, -1.4901e-07,  0.0000e+00],\n",
              "          [ 2.9802e-08,  4.4703e-08,  1.8626e-08,  1.0000e+00, -1.4901e-08],\n",
              "          [ 2.9802e-08, -4.4703e-08,  7.4506e-09, -6.7055e-08,  1.0000e+00]]],\n",
              "\n",
              "\n",
              "        [[[ 1.0000e+00, -2.2352e-08, -5.9605e-08, -2.9802e-08, -2.9802e-08],\n",
              "          [ 3.6322e-08,  1.0000e+00, -4.6566e-09,  6.1351e-08,  4.8429e-08],\n",
              "          [-5.5879e-09,  4.0978e-08,  1.0000e+00,  6.6124e-08,  0.0000e+00],\n",
              "          [ 7.4506e-09,  0.0000e+00,  5.9605e-08,  1.0000e+00, -5.9605e-08],\n",
              "          [-1.4901e-08,  0.0000e+00,  0.0000e+00, -2.6077e-08,  1.0000e+00]],\n",
              "\n",
              "         [[ 1.0000e+00,  0.0000e+00, -5.9605e-08,  0.0000e+00,  0.0000e+00],\n",
              "          [ 2.0862e-07,  1.0000e+00,  1.7881e-07, -1.1921e-07, -3.5763e-07],\n",
              "          [ 8.9407e-08, -1.1921e-07,  1.0000e+00,  0.0000e+00, -1.7881e-07],\n",
              "          [-4.4703e-08,  2.9802e-07, -2.9802e-07,  1.0000e+00,  4.7684e-07],\n",
              "          [-5.9605e-08,  2.3842e-07, -2.3842e-07,  2.3842e-07,  1.0000e+00]],\n",
              "\n",
              "         [[ 1.0000e+00, -8.9873e-08,  0.0000e+00,  1.1921e-07,  2.3842e-07],\n",
              "          [ 0.0000e+00,  1.0000e+00,  5.9605e-08,  0.0000e+00,  0.0000e+00],\n",
              "          [ 0.0000e+00, -4.6217e-08,  1.0000e+00, -5.9605e-08,  0.0000e+00],\n",
              "          [ 5.9605e-08, -1.9907e-08,  2.6077e-08,  1.0000e+00, -5.9605e-08],\n",
              "          [-7.4506e-08, -2.0780e-08, -9.3132e-09, -7.4506e-09,  1.0000e+00]]],\n",
              "\n",
              "\n",
              "        [[[ 1.0000e+00, -1.4901e-08,  1.1921e-07,  8.9407e-08,  2.9802e-08],\n",
              "          [ 2.9802e-08,  1.0000e+00, -8.9407e-08,  7.4506e-08,  8.9407e-08],\n",
              "          [ 5.4017e-08, -6.5193e-09,  1.0000e+00, -5.0291e-08, -3.7253e-08],\n",
              "          [-1.4901e-08, -4.8429e-08,  0.0000e+00,  1.0000e+00, -1.4901e-08],\n",
              "          [ 5.9605e-08,  0.0000e+00,  1.1921e-07,  0.0000e+00,  1.0000e+00]],\n",
              "\n",
              "         [[ 1.0000e+00, -1.4901e-08,  0.0000e+00,  0.0000e+00,  0.0000e+00],\n",
              "          [ 7.4506e-08,  1.0000e+00, -2.9802e-08, -5.9605e-08,  0.0000e+00],\n",
              "          [-6.3854e-08,  4.5824e-08,  1.0000e+00, -1.3399e-07,  4.1007e-08],\n",
              "          [-2.9802e-08,  3.7253e-09,  0.0000e+00,  1.0000e+00, -2.2352e-08],\n",
              "          [-8.9407e-08, -9.6858e-08,  5.9605e-08, -5.9605e-08,  1.0000e+00]],\n",
              "\n",
              "         [[ 1.0000e+00, -8.3819e-09,  3.3528e-08, -1.3411e-07,  7.4506e-08],\n",
              "          [ 7.4506e-09,  1.0000e+00,  5.9605e-08, -2.3842e-07,  2.3842e-07],\n",
              "          [-8.9407e-08,  7.4506e-08,  1.0000e+00, -2.3842e-07,  0.0000e+00],\n",
              "          [-2.7940e-08,  6.7055e-08, -7.4506e-09,  1.0000e+00, -2.9802e-08],\n",
              "          [ 2.1420e-08, -2.7008e-08, -2.2352e-08, -1.1921e-07,  1.0000e+00]]]])"
            ]
          },
          "metadata": {
            "tags": []
          },
          "execution_count": 70
        }
      ]
    },
    {
      "cell_type": "markdown",
      "metadata": {
        "id": "-aEK3svddWj1",
        "colab_type": "text"
      },
      "source": [
        "Multiply matrix \"x\" and it's inverse \"y\""
      ]
    },
    {
      "cell_type": "code",
      "metadata": {
        "id": "0bYrYl1OdWj2",
        "colab_type": "code",
        "colab": {
          "base_uri": "https://localhost:8080/",
          "height": 215
        },
        "outputId": "dfea5f5a-4473-4793-e566-c1895c0d9c59"
      },
      "source": [
        "# Example 3 - breaking (to illustrate when it breaks)\n",
        "x = torch.randn(3, 2)\n",
        "y = torch.randn(3, 1)\n",
        "torch.matmul(x, y)"
      ],
      "execution_count": 71,
      "outputs": [
        {
          "output_type": "error",
          "ename": "RuntimeError",
          "evalue": "ignored",
          "traceback": [
            "\u001b[0;31m---------------------------------------------------------------------------\u001b[0m",
            "\u001b[0;31mRuntimeError\u001b[0m                              Traceback (most recent call last)",
            "\u001b[0;32m<ipython-input-71-17250277216e>\u001b[0m in \u001b[0;36m<module>\u001b[0;34m()\u001b[0m\n\u001b[1;32m      2\u001b[0m \u001b[0mx\u001b[0m \u001b[0;34m=\u001b[0m \u001b[0mtorch\u001b[0m\u001b[0;34m.\u001b[0m\u001b[0mrandn\u001b[0m\u001b[0;34m(\u001b[0m\u001b[0;36m3\u001b[0m\u001b[0;34m,\u001b[0m \u001b[0;36m2\u001b[0m\u001b[0;34m)\u001b[0m\u001b[0;34m\u001b[0m\u001b[0;34m\u001b[0m\u001b[0m\n\u001b[1;32m      3\u001b[0m \u001b[0my\u001b[0m \u001b[0;34m=\u001b[0m \u001b[0mtorch\u001b[0m\u001b[0;34m.\u001b[0m\u001b[0mrandn\u001b[0m\u001b[0;34m(\u001b[0m\u001b[0;36m3\u001b[0m\u001b[0;34m,\u001b[0m \u001b[0;36m1\u001b[0m\u001b[0;34m)\u001b[0m\u001b[0;34m\u001b[0m\u001b[0;34m\u001b[0m\u001b[0m\n\u001b[0;32m----> 4\u001b[0;31m \u001b[0mtorch\u001b[0m\u001b[0;34m.\u001b[0m\u001b[0mmatmul\u001b[0m\u001b[0;34m(\u001b[0m\u001b[0mx\u001b[0m\u001b[0;34m,\u001b[0m \u001b[0my\u001b[0m\u001b[0;34m)\u001b[0m\u001b[0;34m\u001b[0m\u001b[0;34m\u001b[0m\u001b[0m\n\u001b[0m",
            "\u001b[0;31mRuntimeError\u001b[0m: size mismatch, m1: [3 x 2], m2: [3 x 1] at /pytorch/aten/src/TH/generic/THTensorMath.cpp:41"
          ]
        }
      ]
    },
    {
      "cell_type": "markdown",
      "metadata": {
        "id": "By2FFfYSdWj5",
        "colab_type": "text"
      },
      "source": [
        "Cannot multiply 3 by 2 matrix with 3 by 1"
      ]
    },
    {
      "cell_type": "markdown",
      "metadata": {
        "id": "1ATcxPU-dWj5",
        "colab_type": "text"
      },
      "source": [
        "tensor multiplication"
      ]
    },
    {
      "cell_type": "markdown",
      "metadata": {
        "id": "XFIFUJbTdWj6",
        "colab_type": "text"
      },
      "source": [
        "## Conclusion\n",
        "\n",
        "This notebook contains of 5 functions from pytorch documentation."
      ]
    },
    {
      "cell_type": "markdown",
      "metadata": {
        "id": "loqOr9pXdWj7",
        "colab_type": "text"
      },
      "source": [
        "## Reference Links\n",
        "Provide links to your references and other interesting articles about tensors\n",
        "* Official documentation for `torch.Tensor`: https://pytorch.org/docs/stable/tensors.html\n",
        "* ..."
      ]
    },
    {
      "cell_type": "code",
      "metadata": {
        "id": "E2TkSUXFdWj7",
        "colab_type": "code",
        "colab": {
          "base_uri": "https://localhost:8080/",
          "height": 50
        },
        "outputId": "d94f0aaa-7c1c-4947-ef23-c30e480dc846"
      },
      "source": [
        "!pip install jovian --upgrade --quiet"
      ],
      "execution_count": 72,
      "outputs": [
        {
          "output_type": "stream",
          "text": [
            "\u001b[?25l\r\u001b[K     |████                            | 10kB 25.1MB/s eta 0:00:01\r\u001b[K     |███████▉                        | 20kB 1.7MB/s eta 0:00:01\r\u001b[K     |███████████▉                    | 30kB 2.3MB/s eta 0:00:01\r\u001b[K     |███████████████▊                | 40kB 2.5MB/s eta 0:00:01\r\u001b[K     |███████████████████▋            | 51kB 2.0MB/s eta 0:00:01\r\u001b[K     |███████████████████████▋        | 61kB 2.3MB/s eta 0:00:01\r\u001b[K     |███████████████████████████▌    | 71kB 2.6MB/s eta 0:00:01\r\u001b[K     |███████████████████████████████▍| 81kB 2.8MB/s eta 0:00:01\r\u001b[K     |████████████████████████████████| 92kB 2.0MB/s \n",
            "\u001b[?25h  Building wheel for uuid (setup.py) ... \u001b[?25l\u001b[?25hdone\n"
          ],
          "name": "stdout"
        }
      ]
    },
    {
      "cell_type": "code",
      "metadata": {
        "id": "r1OYw-G8dWj-",
        "colab_type": "code",
        "colab": {}
      },
      "source": [
        "import jovian"
      ],
      "execution_count": 0,
      "outputs": []
    },
    {
      "cell_type": "code",
      "metadata": {
        "id": "uDqgno8WdWkC",
        "colab_type": "code",
        "outputId": "1fb4883f-b583-459f-adad-b4988e4613de",
        "colab": {
          "base_uri": "https://localhost:8080/",
          "height": 34
        }
      },
      "source": [
        "jovian.commit()"
      ],
      "execution_count": 76,
      "outputs": [
        {
          "output_type": "stream",
          "text": [
            "\u001b[31m[jovian] Error: Failed to detect Jupyter notebook or Python script. Skipping..\u001b[0m\n"
          ],
          "name": "stderr"
        }
      ]
    },
    {
      "cell_type": "code",
      "metadata": {
        "id": "Ho9f0MzCdWkL",
        "colab_type": "code",
        "colab": {}
      },
      "source": [
        ""
      ],
      "execution_count": 0,
      "outputs": []
    }
  ]
}